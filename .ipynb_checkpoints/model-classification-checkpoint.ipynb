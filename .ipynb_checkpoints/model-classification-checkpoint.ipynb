{
 "cells": [
  {
   "cell_type": "markdown",
   "metadata": {},
   "source": [
    "# Classification Modeling"
   ]
  },
  {
   "cell_type": "code",
   "execution_count": 1,
   "metadata": {
    "collapsed": false
   },
   "outputs": [
    {
     "name": "stderr",
     "output_type": "stream",
     "text": [
      "C:\\Program Files\\Anaconda3\\lib\\site-packages\\sklearn\\cross_validation.py:44: DeprecationWarning: This module was deprecated in version 0.18 in favor of the model_selection module into which all the refactored classes and functions are moved. Also note that the interface of the new CV iterators are different from that of this module. This module will be removed in 0.20.\n",
      "  \"This module will be removed in 0.20.\", DeprecationWarning)\n",
      "C:\\Program Files\\Anaconda3\\lib\\site-packages\\sklearn\\grid_search.py:43: DeprecationWarning: This module was deprecated in version 0.18 in favor of the model_selection module into which all the refactored classes and functions are moved. This module will be removed in 0.20.\n",
      "  DeprecationWarning)\n"
     ]
    }
   ],
   "source": [
    "import numpy as np\n",
    "import pandas as pd\n",
    "import sklearn\n",
    "import matplotlib.pyplot as plt\n",
    "%matplotlib inline\n",
    "import seaborn as sns\n",
    "from sklearn.decomposition import PCA\n",
    "from sklearn.manifold import Isomap\n",
    "from sklearn.model_selection import train_test_split\n",
    "from sklearn.metrics import accuracy_score\n",
    "from sklearn.model_selection import cross_val_score\n",
    "from sklearn.grid_search import GridSearchCV"
   ]
  },
  {
   "cell_type": "markdown",
   "metadata": {},
   "source": [
    "## Load Data"
   ]
  },
  {
   "cell_type": "code",
   "execution_count": 2,
   "metadata": {
    "collapsed": false
   },
   "outputs": [
    {
     "data": {
      "text/html": [
       "<div>\n",
       "<table border=\"1\" class=\"dataframe\">\n",
       "  <thead>\n",
       "    <tr style=\"text-align: right;\">\n",
       "      <th></th>\n",
       "      <th>label</th>\n",
       "      <th>pixel0</th>\n",
       "      <th>pixel1</th>\n",
       "      <th>pixel2</th>\n",
       "      <th>pixel3</th>\n",
       "      <th>pixel4</th>\n",
       "      <th>pixel5</th>\n",
       "      <th>pixel6</th>\n",
       "      <th>pixel7</th>\n",
       "      <th>pixel8</th>\n",
       "      <th>...</th>\n",
       "      <th>pixel774</th>\n",
       "      <th>pixel775</th>\n",
       "      <th>pixel776</th>\n",
       "      <th>pixel777</th>\n",
       "      <th>pixel778</th>\n",
       "      <th>pixel779</th>\n",
       "      <th>pixel780</th>\n",
       "      <th>pixel781</th>\n",
       "      <th>pixel782</th>\n",
       "      <th>pixel783</th>\n",
       "    </tr>\n",
       "  </thead>\n",
       "  <tbody>\n",
       "    <tr>\n",
       "      <th>count</th>\n",
       "      <td>42000.000000</td>\n",
       "      <td>42000.0</td>\n",
       "      <td>42000.0</td>\n",
       "      <td>42000.0</td>\n",
       "      <td>42000.0</td>\n",
       "      <td>42000.0</td>\n",
       "      <td>42000.0</td>\n",
       "      <td>42000.0</td>\n",
       "      <td>42000.0</td>\n",
       "      <td>42000.0</td>\n",
       "      <td>...</td>\n",
       "      <td>42000.000000</td>\n",
       "      <td>42000.000000</td>\n",
       "      <td>42000.000000</td>\n",
       "      <td>42000.00000</td>\n",
       "      <td>42000.000000</td>\n",
       "      <td>42000.000000</td>\n",
       "      <td>42000.0</td>\n",
       "      <td>42000.0</td>\n",
       "      <td>42000.0</td>\n",
       "      <td>42000.0</td>\n",
       "    </tr>\n",
       "    <tr>\n",
       "      <th>mean</th>\n",
       "      <td>4.456643</td>\n",
       "      <td>0.0</td>\n",
       "      <td>0.0</td>\n",
       "      <td>0.0</td>\n",
       "      <td>0.0</td>\n",
       "      <td>0.0</td>\n",
       "      <td>0.0</td>\n",
       "      <td>0.0</td>\n",
       "      <td>0.0</td>\n",
       "      <td>0.0</td>\n",
       "      <td>...</td>\n",
       "      <td>0.219286</td>\n",
       "      <td>0.117095</td>\n",
       "      <td>0.059024</td>\n",
       "      <td>0.02019</td>\n",
       "      <td>0.017238</td>\n",
       "      <td>0.002857</td>\n",
       "      <td>0.0</td>\n",
       "      <td>0.0</td>\n",
       "      <td>0.0</td>\n",
       "      <td>0.0</td>\n",
       "    </tr>\n",
       "    <tr>\n",
       "      <th>std</th>\n",
       "      <td>2.887730</td>\n",
       "      <td>0.0</td>\n",
       "      <td>0.0</td>\n",
       "      <td>0.0</td>\n",
       "      <td>0.0</td>\n",
       "      <td>0.0</td>\n",
       "      <td>0.0</td>\n",
       "      <td>0.0</td>\n",
       "      <td>0.0</td>\n",
       "      <td>0.0</td>\n",
       "      <td>...</td>\n",
       "      <td>6.312890</td>\n",
       "      <td>4.633819</td>\n",
       "      <td>3.274488</td>\n",
       "      <td>1.75987</td>\n",
       "      <td>1.894498</td>\n",
       "      <td>0.414264</td>\n",
       "      <td>0.0</td>\n",
       "      <td>0.0</td>\n",
       "      <td>0.0</td>\n",
       "      <td>0.0</td>\n",
       "    </tr>\n",
       "    <tr>\n",
       "      <th>min</th>\n",
       "      <td>0.000000</td>\n",
       "      <td>0.0</td>\n",
       "      <td>0.0</td>\n",
       "      <td>0.0</td>\n",
       "      <td>0.0</td>\n",
       "      <td>0.0</td>\n",
       "      <td>0.0</td>\n",
       "      <td>0.0</td>\n",
       "      <td>0.0</td>\n",
       "      <td>0.0</td>\n",
       "      <td>...</td>\n",
       "      <td>0.000000</td>\n",
       "      <td>0.000000</td>\n",
       "      <td>0.000000</td>\n",
       "      <td>0.00000</td>\n",
       "      <td>0.000000</td>\n",
       "      <td>0.000000</td>\n",
       "      <td>0.0</td>\n",
       "      <td>0.0</td>\n",
       "      <td>0.0</td>\n",
       "      <td>0.0</td>\n",
       "    </tr>\n",
       "    <tr>\n",
       "      <th>25%</th>\n",
       "      <td>2.000000</td>\n",
       "      <td>0.0</td>\n",
       "      <td>0.0</td>\n",
       "      <td>0.0</td>\n",
       "      <td>0.0</td>\n",
       "      <td>0.0</td>\n",
       "      <td>0.0</td>\n",
       "      <td>0.0</td>\n",
       "      <td>0.0</td>\n",
       "      <td>0.0</td>\n",
       "      <td>...</td>\n",
       "      <td>0.000000</td>\n",
       "      <td>0.000000</td>\n",
       "      <td>0.000000</td>\n",
       "      <td>0.00000</td>\n",
       "      <td>0.000000</td>\n",
       "      <td>0.000000</td>\n",
       "      <td>0.0</td>\n",
       "      <td>0.0</td>\n",
       "      <td>0.0</td>\n",
       "      <td>0.0</td>\n",
       "    </tr>\n",
       "    <tr>\n",
       "      <th>50%</th>\n",
       "      <td>4.000000</td>\n",
       "      <td>0.0</td>\n",
       "      <td>0.0</td>\n",
       "      <td>0.0</td>\n",
       "      <td>0.0</td>\n",
       "      <td>0.0</td>\n",
       "      <td>0.0</td>\n",
       "      <td>0.0</td>\n",
       "      <td>0.0</td>\n",
       "      <td>0.0</td>\n",
       "      <td>...</td>\n",
       "      <td>0.000000</td>\n",
       "      <td>0.000000</td>\n",
       "      <td>0.000000</td>\n",
       "      <td>0.00000</td>\n",
       "      <td>0.000000</td>\n",
       "      <td>0.000000</td>\n",
       "      <td>0.0</td>\n",
       "      <td>0.0</td>\n",
       "      <td>0.0</td>\n",
       "      <td>0.0</td>\n",
       "    </tr>\n",
       "    <tr>\n",
       "      <th>75%</th>\n",
       "      <td>7.000000</td>\n",
       "      <td>0.0</td>\n",
       "      <td>0.0</td>\n",
       "      <td>0.0</td>\n",
       "      <td>0.0</td>\n",
       "      <td>0.0</td>\n",
       "      <td>0.0</td>\n",
       "      <td>0.0</td>\n",
       "      <td>0.0</td>\n",
       "      <td>0.0</td>\n",
       "      <td>...</td>\n",
       "      <td>0.000000</td>\n",
       "      <td>0.000000</td>\n",
       "      <td>0.000000</td>\n",
       "      <td>0.00000</td>\n",
       "      <td>0.000000</td>\n",
       "      <td>0.000000</td>\n",
       "      <td>0.0</td>\n",
       "      <td>0.0</td>\n",
       "      <td>0.0</td>\n",
       "      <td>0.0</td>\n",
       "    </tr>\n",
       "    <tr>\n",
       "      <th>max</th>\n",
       "      <td>9.000000</td>\n",
       "      <td>0.0</td>\n",
       "      <td>0.0</td>\n",
       "      <td>0.0</td>\n",
       "      <td>0.0</td>\n",
       "      <td>0.0</td>\n",
       "      <td>0.0</td>\n",
       "      <td>0.0</td>\n",
       "      <td>0.0</td>\n",
       "      <td>0.0</td>\n",
       "      <td>...</td>\n",
       "      <td>254.000000</td>\n",
       "      <td>254.000000</td>\n",
       "      <td>253.000000</td>\n",
       "      <td>253.00000</td>\n",
       "      <td>254.000000</td>\n",
       "      <td>62.000000</td>\n",
       "      <td>0.0</td>\n",
       "      <td>0.0</td>\n",
       "      <td>0.0</td>\n",
       "      <td>0.0</td>\n",
       "    </tr>\n",
       "  </tbody>\n",
       "</table>\n",
       "<p>8 rows × 785 columns</p>\n",
       "</div>"
      ],
      "text/plain": [
       "              label   pixel0   pixel1   pixel2   pixel3   pixel4   pixel5  \\\n",
       "count  42000.000000  42000.0  42000.0  42000.0  42000.0  42000.0  42000.0   \n",
       "mean       4.456643      0.0      0.0      0.0      0.0      0.0      0.0   \n",
       "std        2.887730      0.0      0.0      0.0      0.0      0.0      0.0   \n",
       "min        0.000000      0.0      0.0      0.0      0.0      0.0      0.0   \n",
       "25%        2.000000      0.0      0.0      0.0      0.0      0.0      0.0   \n",
       "50%        4.000000      0.0      0.0      0.0      0.0      0.0      0.0   \n",
       "75%        7.000000      0.0      0.0      0.0      0.0      0.0      0.0   \n",
       "max        9.000000      0.0      0.0      0.0      0.0      0.0      0.0   \n",
       "\n",
       "        pixel6   pixel7   pixel8    ...         pixel774      pixel775  \\\n",
       "count  42000.0  42000.0  42000.0    ...     42000.000000  42000.000000   \n",
       "mean       0.0      0.0      0.0    ...         0.219286      0.117095   \n",
       "std        0.0      0.0      0.0    ...         6.312890      4.633819   \n",
       "min        0.0      0.0      0.0    ...         0.000000      0.000000   \n",
       "25%        0.0      0.0      0.0    ...         0.000000      0.000000   \n",
       "50%        0.0      0.0      0.0    ...         0.000000      0.000000   \n",
       "75%        0.0      0.0      0.0    ...         0.000000      0.000000   \n",
       "max        0.0      0.0      0.0    ...       254.000000    254.000000   \n",
       "\n",
       "           pixel776     pixel777      pixel778      pixel779  pixel780  \\\n",
       "count  42000.000000  42000.00000  42000.000000  42000.000000   42000.0   \n",
       "mean       0.059024      0.02019      0.017238      0.002857       0.0   \n",
       "std        3.274488      1.75987      1.894498      0.414264       0.0   \n",
       "min        0.000000      0.00000      0.000000      0.000000       0.0   \n",
       "25%        0.000000      0.00000      0.000000      0.000000       0.0   \n",
       "50%        0.000000      0.00000      0.000000      0.000000       0.0   \n",
       "75%        0.000000      0.00000      0.000000      0.000000       0.0   \n",
       "max      253.000000    253.00000    254.000000     62.000000       0.0   \n",
       "\n",
       "       pixel781  pixel782  pixel783  \n",
       "count   42000.0   42000.0   42000.0  \n",
       "mean        0.0       0.0       0.0  \n",
       "std         0.0       0.0       0.0  \n",
       "min         0.0       0.0       0.0  \n",
       "25%         0.0       0.0       0.0  \n",
       "50%         0.0       0.0       0.0  \n",
       "75%         0.0       0.0       0.0  \n",
       "max         0.0       0.0       0.0  \n",
       "\n",
       "[8 rows x 785 columns]"
      ]
     },
     "execution_count": 2,
     "metadata": {},
     "output_type": "execute_result"
    }
   ],
   "source": [
    "df = pd.read_csv('data/train.csv')\n",
    "\n",
    "X = df.drop('label', axis=1)\n",
    "y = df.label\n",
    "\n",
    "df.describe()"
   ]
  },
  {
   "cell_type": "markdown",
   "metadata": {},
   "source": [
    "## Preprocessing\n",
    "Create greyscale and binary image representations and split into training and testing sets\n"
   ]
  },
  {
   "cell_type": "code",
   "execution_count": 3,
   "metadata": {
    "collapsed": false
   },
   "outputs": [],
   "source": [
    "# Create a dataset with grayscale image data and another with binary (black and white) image data\n",
    "\n",
    "X_greyscale = (X - X.mean()) / (X.max() - X.min()) # Normalize greyscale data\n",
    "\n",
    "X_greyscale = X_greyscale.fillna(0)\n",
    "\n",
    "\n",
    "convert_binary = lambda x: 1 if x > 0 else 0\n",
    "X_binary = X.applymap(convert_binary)\n",
    "\n",
    "X_gs_train, X_gs_test, y_gs_train, y_gs_test = train_test_split(X_greyscale, y, test_size=.25, random_state=1)\n",
    "X_binary_train, X_binary_test, y_binary_train, y_binary_test = train_test_split(X_binary, y, test_size=.25, random_state=1)"
   ]
  },
  {
   "cell_type": "code",
   "execution_count": 4,
   "metadata": {
    "collapsed": false
   },
   "outputs": [
    {
     "data": {
      "text/html": [
       "<div>\n",
       "<table border=\"1\" class=\"dataframe\">\n",
       "  <thead>\n",
       "    <tr style=\"text-align: right;\">\n",
       "      <th></th>\n",
       "      <th>pixel0</th>\n",
       "      <th>pixel1</th>\n",
       "      <th>pixel2</th>\n",
       "      <th>pixel3</th>\n",
       "      <th>pixel4</th>\n",
       "      <th>pixel5</th>\n",
       "      <th>pixel6</th>\n",
       "      <th>pixel7</th>\n",
       "      <th>pixel8</th>\n",
       "      <th>pixel9</th>\n",
       "      <th>...</th>\n",
       "      <th>pixel774</th>\n",
       "      <th>pixel775</th>\n",
       "      <th>pixel776</th>\n",
       "      <th>pixel777</th>\n",
       "      <th>pixel778</th>\n",
       "      <th>pixel779</th>\n",
       "      <th>pixel780</th>\n",
       "      <th>pixel781</th>\n",
       "      <th>pixel782</th>\n",
       "      <th>pixel783</th>\n",
       "    </tr>\n",
       "  </thead>\n",
       "  <tbody>\n",
       "    <tr>\n",
       "      <th>count</th>\n",
       "      <td>42000.0</td>\n",
       "      <td>42000.0</td>\n",
       "      <td>42000.0</td>\n",
       "      <td>42000.0</td>\n",
       "      <td>42000.0</td>\n",
       "      <td>42000.0</td>\n",
       "      <td>42000.0</td>\n",
       "      <td>42000.0</td>\n",
       "      <td>42000.0</td>\n",
       "      <td>42000.0</td>\n",
       "      <td>...</td>\n",
       "      <td>4.200000e+04</td>\n",
       "      <td>4.200000e+04</td>\n",
       "      <td>4.200000e+04</td>\n",
       "      <td>4.200000e+04</td>\n",
       "      <td>4.200000e+04</td>\n",
       "      <td>4.200000e+04</td>\n",
       "      <td>42000.0</td>\n",
       "      <td>42000.0</td>\n",
       "      <td>42000.0</td>\n",
       "      <td>42000.0</td>\n",
       "    </tr>\n",
       "    <tr>\n",
       "      <th>mean</th>\n",
       "      <td>0.0</td>\n",
       "      <td>0.0</td>\n",
       "      <td>0.0</td>\n",
       "      <td>0.0</td>\n",
       "      <td>0.0</td>\n",
       "      <td>0.0</td>\n",
       "      <td>0.0</td>\n",
       "      <td>0.0</td>\n",
       "      <td>0.0</td>\n",
       "      <td>0.0</td>\n",
       "      <td>...</td>\n",
       "      <td>8.468577e-17</td>\n",
       "      <td>-1.148260e-17</td>\n",
       "      <td>-1.476015e-17</td>\n",
       "      <td>-8.881216e-19</td>\n",
       "      <td>3.204056e-17</td>\n",
       "      <td>8.732572e-18</td>\n",
       "      <td>0.0</td>\n",
       "      <td>0.0</td>\n",
       "      <td>0.0</td>\n",
       "      <td>0.0</td>\n",
       "    </tr>\n",
       "    <tr>\n",
       "      <th>std</th>\n",
       "      <td>0.0</td>\n",
       "      <td>0.0</td>\n",
       "      <td>0.0</td>\n",
       "      <td>0.0</td>\n",
       "      <td>0.0</td>\n",
       "      <td>0.0</td>\n",
       "      <td>0.0</td>\n",
       "      <td>0.0</td>\n",
       "      <td>0.0</td>\n",
       "      <td>0.0</td>\n",
       "      <td>...</td>\n",
       "      <td>2.485390e-02</td>\n",
       "      <td>1.824338e-02</td>\n",
       "      <td>1.294264e-02</td>\n",
       "      <td>6.956008e-03</td>\n",
       "      <td>7.458652e-03</td>\n",
       "      <td>6.681683e-03</td>\n",
       "      <td>0.0</td>\n",
       "      <td>0.0</td>\n",
       "      <td>0.0</td>\n",
       "      <td>0.0</td>\n",
       "    </tr>\n",
       "    <tr>\n",
       "      <th>min</th>\n",
       "      <td>0.0</td>\n",
       "      <td>0.0</td>\n",
       "      <td>0.0</td>\n",
       "      <td>0.0</td>\n",
       "      <td>0.0</td>\n",
       "      <td>0.0</td>\n",
       "      <td>0.0</td>\n",
       "      <td>0.0</td>\n",
       "      <td>0.0</td>\n",
       "      <td>0.0</td>\n",
       "      <td>...</td>\n",
       "      <td>-8.633296e-04</td>\n",
       "      <td>-4.610049e-04</td>\n",
       "      <td>-2.332957e-04</td>\n",
       "      <td>-7.980425e-05</td>\n",
       "      <td>-6.786652e-05</td>\n",
       "      <td>-4.608295e-05</td>\n",
       "      <td>0.0</td>\n",
       "      <td>0.0</td>\n",
       "      <td>0.0</td>\n",
       "      <td>0.0</td>\n",
       "    </tr>\n",
       "    <tr>\n",
       "      <th>25%</th>\n",
       "      <td>0.0</td>\n",
       "      <td>0.0</td>\n",
       "      <td>0.0</td>\n",
       "      <td>0.0</td>\n",
       "      <td>0.0</td>\n",
       "      <td>0.0</td>\n",
       "      <td>0.0</td>\n",
       "      <td>0.0</td>\n",
       "      <td>0.0</td>\n",
       "      <td>0.0</td>\n",
       "      <td>...</td>\n",
       "      <td>-8.633296e-04</td>\n",
       "      <td>-4.610049e-04</td>\n",
       "      <td>-2.332957e-04</td>\n",
       "      <td>-7.980425e-05</td>\n",
       "      <td>-6.786652e-05</td>\n",
       "      <td>-4.608295e-05</td>\n",
       "      <td>0.0</td>\n",
       "      <td>0.0</td>\n",
       "      <td>0.0</td>\n",
       "      <td>0.0</td>\n",
       "    </tr>\n",
       "    <tr>\n",
       "      <th>50%</th>\n",
       "      <td>0.0</td>\n",
       "      <td>0.0</td>\n",
       "      <td>0.0</td>\n",
       "      <td>0.0</td>\n",
       "      <td>0.0</td>\n",
       "      <td>0.0</td>\n",
       "      <td>0.0</td>\n",
       "      <td>0.0</td>\n",
       "      <td>0.0</td>\n",
       "      <td>0.0</td>\n",
       "      <td>...</td>\n",
       "      <td>-8.633296e-04</td>\n",
       "      <td>-4.610049e-04</td>\n",
       "      <td>-2.332957e-04</td>\n",
       "      <td>-7.980425e-05</td>\n",
       "      <td>-6.786652e-05</td>\n",
       "      <td>-4.608295e-05</td>\n",
       "      <td>0.0</td>\n",
       "      <td>0.0</td>\n",
       "      <td>0.0</td>\n",
       "      <td>0.0</td>\n",
       "    </tr>\n",
       "    <tr>\n",
       "      <th>75%</th>\n",
       "      <td>0.0</td>\n",
       "      <td>0.0</td>\n",
       "      <td>0.0</td>\n",
       "      <td>0.0</td>\n",
       "      <td>0.0</td>\n",
       "      <td>0.0</td>\n",
       "      <td>0.0</td>\n",
       "      <td>0.0</td>\n",
       "      <td>0.0</td>\n",
       "      <td>0.0</td>\n",
       "      <td>...</td>\n",
       "      <td>-8.633296e-04</td>\n",
       "      <td>-4.610049e-04</td>\n",
       "      <td>-2.332957e-04</td>\n",
       "      <td>-7.980425e-05</td>\n",
       "      <td>-6.786652e-05</td>\n",
       "      <td>-4.608295e-05</td>\n",
       "      <td>0.0</td>\n",
       "      <td>0.0</td>\n",
       "      <td>0.0</td>\n",
       "      <td>0.0</td>\n",
       "    </tr>\n",
       "    <tr>\n",
       "      <th>max</th>\n",
       "      <td>0.0</td>\n",
       "      <td>0.0</td>\n",
       "      <td>0.0</td>\n",
       "      <td>0.0</td>\n",
       "      <td>0.0</td>\n",
       "      <td>0.0</td>\n",
       "      <td>0.0</td>\n",
       "      <td>0.0</td>\n",
       "      <td>0.0</td>\n",
       "      <td>0.0</td>\n",
       "      <td>...</td>\n",
       "      <td>9.991367e-01</td>\n",
       "      <td>9.995390e-01</td>\n",
       "      <td>9.997667e-01</td>\n",
       "      <td>9.999202e-01</td>\n",
       "      <td>9.999321e-01</td>\n",
       "      <td>9.999539e-01</td>\n",
       "      <td>0.0</td>\n",
       "      <td>0.0</td>\n",
       "      <td>0.0</td>\n",
       "      <td>0.0</td>\n",
       "    </tr>\n",
       "  </tbody>\n",
       "</table>\n",
       "<p>8 rows × 784 columns</p>\n",
       "</div>"
      ],
      "text/plain": [
       "        pixel0   pixel1   pixel2   pixel3   pixel4   pixel5   pixel6   pixel7  \\\n",
       "count  42000.0  42000.0  42000.0  42000.0  42000.0  42000.0  42000.0  42000.0   \n",
       "mean       0.0      0.0      0.0      0.0      0.0      0.0      0.0      0.0   \n",
       "std        0.0      0.0      0.0      0.0      0.0      0.0      0.0      0.0   \n",
       "min        0.0      0.0      0.0      0.0      0.0      0.0      0.0      0.0   \n",
       "25%        0.0      0.0      0.0      0.0      0.0      0.0      0.0      0.0   \n",
       "50%        0.0      0.0      0.0      0.0      0.0      0.0      0.0      0.0   \n",
       "75%        0.0      0.0      0.0      0.0      0.0      0.0      0.0      0.0   \n",
       "max        0.0      0.0      0.0      0.0      0.0      0.0      0.0      0.0   \n",
       "\n",
       "        pixel8   pixel9    ...         pixel774      pixel775      pixel776  \\\n",
       "count  42000.0  42000.0    ...     4.200000e+04  4.200000e+04  4.200000e+04   \n",
       "mean       0.0      0.0    ...     8.468577e-17 -1.148260e-17 -1.476015e-17   \n",
       "std        0.0      0.0    ...     2.485390e-02  1.824338e-02  1.294264e-02   \n",
       "min        0.0      0.0    ...    -8.633296e-04 -4.610049e-04 -2.332957e-04   \n",
       "25%        0.0      0.0    ...    -8.633296e-04 -4.610049e-04 -2.332957e-04   \n",
       "50%        0.0      0.0    ...    -8.633296e-04 -4.610049e-04 -2.332957e-04   \n",
       "75%        0.0      0.0    ...    -8.633296e-04 -4.610049e-04 -2.332957e-04   \n",
       "max        0.0      0.0    ...     9.991367e-01  9.995390e-01  9.997667e-01   \n",
       "\n",
       "           pixel777      pixel778      pixel779  pixel780  pixel781  pixel782  \\\n",
       "count  4.200000e+04  4.200000e+04  4.200000e+04   42000.0   42000.0   42000.0   \n",
       "mean  -8.881216e-19  3.204056e-17  8.732572e-18       0.0       0.0       0.0   \n",
       "std    6.956008e-03  7.458652e-03  6.681683e-03       0.0       0.0       0.0   \n",
       "min   -7.980425e-05 -6.786652e-05 -4.608295e-05       0.0       0.0       0.0   \n",
       "25%   -7.980425e-05 -6.786652e-05 -4.608295e-05       0.0       0.0       0.0   \n",
       "50%   -7.980425e-05 -6.786652e-05 -4.608295e-05       0.0       0.0       0.0   \n",
       "75%   -7.980425e-05 -6.786652e-05 -4.608295e-05       0.0       0.0       0.0   \n",
       "max    9.999202e-01  9.999321e-01  9.999539e-01       0.0       0.0       0.0   \n",
       "\n",
       "       pixel783  \n",
       "count   42000.0  \n",
       "mean        0.0  \n",
       "std         0.0  \n",
       "min         0.0  \n",
       "25%         0.0  \n",
       "50%         0.0  \n",
       "75%         0.0  \n",
       "max         0.0  \n",
       "\n",
       "[8 rows x 784 columns]"
      ]
     },
     "execution_count": 4,
     "metadata": {},
     "output_type": "execute_result"
    }
   ],
   "source": [
    "X_greyscale.describe()"
   ]
  },
  {
   "cell_type": "code",
   "execution_count": 5,
   "metadata": {
    "collapsed": false
   },
   "outputs": [
    {
     "data": {
      "text/plain": [
       "<matplotlib.text.Text at 0x2ec5294d8d0>"
      ]
     },
     "execution_count": 5,
     "metadata": {},
     "output_type": "execute_result"
    },
    {
     "data": {
      "image/png": "[encoded data removed]",
      "text/plain": [
       "<matplotlib.figure.Figure at 0x2ec53180a58>"
      ]
     },
     "metadata": {},
     "output_type": "display_data"
    }
   ],
   "source": [
    "# Plot visualiztion of the different representations\n",
    "\n",
    "plt.figure(figsize=(10, 6))\n",
    "\n",
    "plt.figure(1)\n",
    "\n",
    "plt.subplot(121)\n",
    "image_greyscale = X_greyscale.iloc[13].as_matrix().reshape((28,28))\n",
    "plt.imshow(image_greyscale, cmap='gray')\n",
    "plt.title('Greyscale Image')\n",
    "\n",
    "plt.subplot(122)\n",
    "image_binary = X_binary.iloc[13].as_matrix().reshape((28,28))\n",
    "plt.imshow(image_binary, cmap='binary')\n",
    "plt.title('Binary Image')"
   ]
  },
  {
   "cell_type": "markdown",
   "metadata": {},
   "source": [
    "## Baseline Models\n",
    "Train and validate baseline models suing subset of training data "
   ]
  },
  {
   "cell_type": "code",
   "execution_count": 6,
   "metadata": {
    "collapsed": false
   },
   "outputs": [],
   "source": [
    "# Use some basic models\n",
    "\n",
    "from sklearn.svm import SVC\n",
    "from sklearn.naive_bayes import GaussianNB\n",
    "from sklearn.tree import DecisionTreeClassifier\n",
    "from sklearn.neighbors import KNeighborsClassifier\n",
    "\n",
    "# Use some ensemble methods, for this useit's okay if our model is a black box\n",
    "\n",
    "from sklearn.ensemble import RandomForestClassifier\n",
    "from sklearn.ensemble import AdaBoostClassifier\n",
    "\n",
    "baseline_models = [SVC, KNeighborsClassifier, GaussianNB, DecisionTreeClassifier, \n",
    "                   RandomForestClassifier, AdaBoostClassifier]\n",
    "baseline_models_str = ['SVC', 'KNN', 'GaussianNB', 'Decision Tree', \n",
    "                   'Random Forest', 'Ada Boost']\n",
    "baseline_scores_greyscale = []\n",
    "baseline_scores_binary = []\n",
    "\n",
    "for m in baseline_models:\n",
    "    baseline_scores_greyscale.append(np.mean(cross_val_score(m(), X_gs_train[:5000], y_gs_train[:5000])))\n",
    "    \n",
    "for m in baseline_models:\n",
    "    baseline_scores_binary.append(np.mean(cross_val_score(m(), X_binary_train[:5000], y_binary_train[:5000])))"
   ]
  },
  {
   "cell_type": "code",
   "execution_count": 7,
   "metadata": {
    "collapsed": true
   },
   "outputs": [],
   "source": [
    "baseline_df = pd.DataFrame()\n",
    "baseline_df['model'] = pd.Series(baseline_models_str*2)\n",
    "baseline_df['score'] = pd.Series(baseline_scores_greyscale + baseline_scores_binary)\n",
    "baseline_df['kind'] = pd.Series(['Greyscale']*len(baseline_models) + ['Binary']*len(baseline_models))"
   ]
  },
  {
   "cell_type": "code",
   "execution_count": 8,
   "metadata": {
    "collapsed": false,
    "scrolled": false
   },
   "outputs": [
    {
     "data": {
      "image/png": "[encoded data removed]",
      "text/plain": [
       "<matplotlib.figure.Figure at 0x2ec52a04240>"
      ]
     },
     "metadata": {},
     "output_type": "display_data"
    },
    {
     "name": "stdout",
     "output_type": "stream",
     "text": [
      "SVC ( Greyscale ): 0.8985976834983874\n",
      "KNN ( Greyscale ): 0.9238022193953906\n",
      "GaussianNB ( Greyscale ): 0.5600041665032095\n",
      "Decision Tree ( Greyscale ): 0.7460107934045924\n",
      "Random Forest ( Greyscale ): 0.8739926744612306\n",
      "Ada Boost ( Greyscale ): 0.46067147401425085\n",
      "SVC ( Binary ): 0.9034015407900772\n",
      "KNN ( Binary ): 0.924595954004734\n",
      "GaussianNB ( Binary ): 0.5402006027435652\n",
      "Decision Tree ( Binary ): 0.769809257733112\n",
      "Random Forest ( Binary ): 0.8935927951930953\n",
      "Ada Boost ( Binary ): 0.5330723721338785\n"
     ]
    }
   ],
   "source": [
    "plt.figure(figsize=(15, 8))\n",
    "\n",
    "ax = sns.barplot(x='model', y='score', hue='kind', data = baseline_df)\n",
    "ax.set(title='Baseline Model Performance', xlabel='Model', ylabel=\"Validation Score\")\n",
    "plt.show()\n",
    "\n",
    "models = baseline_df.model.tolist()\n",
    "scores = baseline_df.score.tolist()\n",
    "kinds = baseline_df.kind.tolist()\n",
    "for model, kind, score in zip(models, kinds, scores):\n",
    "    print(model, '(', kind, '):', score)"
   ]
  },
  {
   "cell_type": "markdown",
   "metadata": {},
   "source": [
    "Validation scores are generally higher when using the binary representation of the images as opposed to the greyscale representation. The only model that scores lower is the Naive Bayes model, which makes sense since it's the only generative one in this set and greyscale values allow it to better emulate the natural distribution of a given digit."
   ]
  },
  {
   "cell_type": "markdown",
   "metadata": {},
   "source": [
    "## Model Tuning\n",
    "Tune hyperparameters of best models (SVC and KNN) using simple cross-validation and then a full grid search"
   ]
  },
  {
   "cell_type": "markdown",
   "metadata": {},
   "source": [
    "### SVM"
   ]
  },
  {
   "cell_type": "code",
   "execution_count": 9,
   "metadata": {
    "collapsed": false
   },
   "outputs": [],
   "source": [
    "# Build linear SVC\n",
    "svc_linear = SVC(kernel='linear')\n",
    "\n",
    "# Perform cross-validation to find optimal C value\n",
    "scores_linear = []\n",
    "params_linear = np.logspace(-6, 6, 20)\n",
    "for x in params_linear:\n",
    "    svc_linear.C = x\n",
    "    scores = cross_val_score(svc_linear, X_binary_train[:1000], y_binary_train[:1000], cv=5)\n",
    "    scores_linear.append(1 - np.mean(scores))\n",
    "\n",
    "index_linear = scores_linear.index(min(scores_linear))\n",
    "C_linear = params_linear[index_linear]"
   ]
  },
  {
   "cell_type": "code",
   "execution_count": 10,
   "metadata": {
    "collapsed": false
   },
   "outputs": [
    {
     "data": {
      "image/png": "[encoded data removed]",
      "text/plain": [
       "<matplotlib.figure.Figure at 0x2ec2b6d9cc0>"
      ]
     },
     "metadata": {},
     "output_type": "display_data"
    },
    {
     "name": "stdout",
     "output_type": "stream",
     "text": [
      "Optimal C:  0.0263665089873\n"
     ]
    }
   ],
   "source": [
    "# Plot cross-validation error\n",
    "\n",
    "plt.figure(figsize=(8, 5))\n",
    "\n",
    "plt.plot(params_linear, scores_linear)\n",
    "plt.xlabel('Log Scaled C')\n",
    "plt.ylabel('Cross-Validation Error')\n",
    "plt.xscale('log')\n",
    "plt.show()\n",
    "print('Optimal C: ', C_linear)"
   ]
  },
  {
   "cell_type": "code",
   "execution_count": 11,
   "metadata": {
    "collapsed": false
   },
   "outputs": [
    {
     "name": "stdout",
     "output_type": "stream",
     "text": [
      "Tuned SVM Accuracy:  0.938\n"
     ]
    }
   ],
   "source": [
    "svc_tuned = SVC(kernel='linear', C=C_linear)\n",
    "svc_tuned.fit(X_binary_train, y_binary_train)\n",
    "svc_predict = svc_tuned.predict(X_binary_test)\n",
    "svc_accuracy = accuracy_score(y_binary_test, svc_predict)\n",
    "print('Tuned SVM Accuracy: ', svc_accuracy)"
   ]
  },
  {
   "cell_type": "markdown",
   "metadata": {},
   "source": [
    "93.8% is a decent improvement from our untuned SVM model. Let's do a full grid search, checking different kernels, to see if we can get an even higher score."
   ]
  },
  {
   "cell_type": "code",
   "execution_count": 12,
   "metadata": {
    "collapsed": false
   },
   "outputs": [],
   "source": [
    "parameter_candidates = [\n",
    "  {'C': [.001, .01, 1, 10, 100], 'kernel': ['linear']},\n",
    "  {'C': [.001, .01, 1, 10, 100], 'gamma': [.01, .001, 0.0001], 'kernel': ['rbf']},\n",
    "  {'C': [.001, .01, 1, 10, 100], 'degree': [1, 2, 3, 4], 'kernel': ['poly']}\n",
    "]\n",
    "\n",
    "clf_svm = GridSearchCV(estimator=SVC(), param_grid=parameter_candidates, n_jobs=-1)\n",
    "\n",
    "clf_svm.fit(X_binary_train[:5000], y_binary_train[:5000]);   "
   ]
  },
  {
   "cell_type": "code",
   "execution_count": 13,
   "metadata": {
    "collapsed": false
   },
   "outputs": [
    {
     "name": "stdout",
     "output_type": "stream",
     "text": [
      "SVM accuracy with GridSearchCV:  0.9522\n"
     ]
    },
    {
     "data": {
      "text/plain": [
       "SVC(C=10, cache_size=200, class_weight=None, coef0=0.0,\n",
       "  decision_function_shape=None, degree=3, gamma=0.01, kernel='rbf',\n",
       "  max_iter=-1, probability=False, random_state=None, shrinking=True,\n",
       "  tol=0.001, verbose=False)"
      ]
     },
     "execution_count": 13,
     "metadata": {},
     "output_type": "execute_result"
    }
   ],
   "source": [
    "print('SVM accuracy with GridSearchCV: ',clf_svm.best_score_)\n",
    "clf_svm.best_estimator_"
   ]
  },
  {
   "cell_type": "markdown",
   "metadata": {},
   "source": [
    "The grid search found that a Gaussian SVM best fits the data and produced a tuned model with a validation score of 95.22%. That's a good result for a simple, tuned model."
   ]
  },
  {
   "cell_type": "markdown",
   "metadata": {},
   "source": [
    "### KNN"
   ]
  },
  {
   "cell_type": "code",
   "execution_count": 14,
   "metadata": {
    "collapsed": false
   },
   "outputs": [],
   "source": [
    "parameter_candidates = [\n",
    "  {'n_neighbors': [1,3,5,7,9,11,13,15], 'weights': ['uniform', 'distance'], 'algorithm': ['ball_tree', 'kd_tree', 'brute']}\n",
    "]\n",
    "                                            \n",
    "\n",
    "clf_knn = GridSearchCV(estimator=KNeighborsClassifier(), param_grid=parameter_candidates, n_jobs=-1)\n",
    "\n",
    "clf_knn.fit(X_binary_train[:5000], y_binary_train[:5000]);   "
   ]
  },
  {
   "cell_type": "code",
   "execution_count": 15,
   "metadata": {
    "collapsed": false
   },
   "outputs": [
    {
     "name": "stdout",
     "output_type": "stream",
     "text": [
      "KNN accuracy with GridSearchCV:  0.9318\n"
     ]
    },
    {
     "data": {
      "text/plain": [
       "KNeighborsClassifier(algorithm='ball_tree', leaf_size=30, metric='minkowski',\n",
       "           metric_params=None, n_jobs=1, n_neighbors=3, p=2,\n",
       "           weights='distance')"
      ]
     },
     "execution_count": 15,
     "metadata": {},
     "output_type": "execute_result"
    }
   ],
   "source": [
    "print('KNN accuracy with GridSearchCV: ',clf_knn.best_score_)\n",
    "clf_knn.best_estimator_"
   ]
  },
  {
   "cell_type": "markdown",
   "metadata": {},
   "source": [
    "Tunning our KNN model made a very minimal improvement. The tuned SVM performs much better."
   ]
  },
  {
   "cell_type": "markdown",
   "metadata": {},
   "source": [
    "### Random Forest"
   ]
  },
  {
   "cell_type": "code",
   "execution_count": 16,
   "metadata": {
    "collapsed": false
   },
   "outputs": [],
   "source": [
    "parameter_candidates = [\n",
    "  {'n_estimators': [10, 100, 500, 1000, 5000, 10000], 'max_features': ['sqrt', 'log2'], 'min_samples_split': [2, 3, 4],\n",
    "  'criterion': ['gini', 'entropy']},\n",
    "]\n",
    "\n",
    "clf_rf = GridSearchCV(estimator=RandomForestClassifier(), param_grid=parameter_candidates, n_jobs=-1)\n",
    "\n",
    "clf_rf.fit(X_binary_train[:5000], y_binary_train[:5000]);   "
   ]
  },
  {
   "cell_type": "code",
   "execution_count": 17,
   "metadata": {
    "collapsed": false
   },
   "outputs": [
    {
     "name": "stdout",
     "output_type": "stream",
     "text": [
      "Random Forest score with GridSearchCV:  0.94\n"
     ]
    },
    {
     "data": {
      "text/plain": [
       "RandomForestClassifier(bootstrap=True, class_weight=None, criterion='gini',\n",
       "            max_depth=None, max_features='sqrt', max_leaf_nodes=None,\n",
       "            min_impurity_split=1e-07, min_samples_leaf=1,\n",
       "            min_samples_split=2, min_weight_fraction_leaf=0.0,\n",
       "            n_estimators=500, n_jobs=1, oob_score=False, random_state=None,\n",
       "            verbose=0, warm_start=False)"
      ]
     },
     "execution_count": 17,
     "metadata": {},
     "output_type": "execute_result"
    }
   ],
   "source": [
    "print('Random Forest score with GridSearchCV: ', clf_rf.best_score_)\n",
    "clf_rf.best_estimator_"
   ]
  },
  {
   "cell_type": "markdown",
   "metadata": {},
   "source": [
    "We're getting a great boost in performance when we try to tune our random forest classifier, but it's still not performing as well as our tuned SVM."
   ]
  },
  {
   "cell_type": "markdown",
   "metadata": {},
   "source": [
    "After tuning, a Gaussian SVM has shown to have the best validation performace. Let's test its accuracy by training it on our full training set and testing it against our full testing set."
   ]
  },
  {
   "cell_type": "code",
   "execution_count": 18,
   "metadata": {
    "collapsed": false
   },
   "outputs": [
    {
     "name": "stdout",
     "output_type": "stream",
     "text": [
      "0.97780952381\n"
     ]
    }
   ],
   "source": [
    "svm = clf_svm.best_estimator_\n",
    "svm.fit(X_binary_train, y_binary_train)\n",
    "prediction_svm = svm.predict(X_binary_test)\n",
    "accuracy_svm = accuracy_score(y_binary_test, prediction_svm)\n",
    "print(accuracy_svm)"
   ]
  },
  {
   "cell_type": "markdown",
   "metadata": {},
   "source": [
    "Our tuned Support Vector Classifier has an accuracy of 97.78%. This is great for a relativley simple discriminative model. But I think we can do better here. I'm going to try using deep learning achieve a higher level of accuracy."
   ]
  },
  {
   "cell_type": "markdown",
   "metadata": {},
   "source": [
    "## Deep Learning"
   ]
  },
  {
   "cell_type": "code",
   "execution_count": 33,
   "metadata": {
    "collapsed": false
   },
   "outputs": [],
   "source": [
    "from keras.models import Sequential\n",
    "from keras.layers.core import Dense, Dropout, Activation, Flatten\n",
    "from keras.layers import Convolution2D, MaxPooling2D\n",
    "from keras.utils import np_utils\n",
    "from keras.callbacks import EarlyStopping\n",
    "from keras import backend\n",
    "backend.set_image_dim_ordering('th')"
   ]
  },
  {
   "cell_type": "markdown",
   "metadata": {},
   "source": [
    "### Preprocessing\n",
    "Process greyscale and binary image data for use with simple neural networks and convolutional neural networks"
   ]
  },
  {
   "cell_type": "code",
   "execution_count": 20,
   "metadata": {
    "collapsed": false
   },
   "outputs": [],
   "source": [
    "# Convert data to NumPy matrix form\n",
    "X_gs_train = X_gs_train.as_matrix()\n",
    "X_gs_test = X_gs_test.as_matrix()\n",
    "\n",
    "X_binary_train = X_binary_train.as_matrix()\n",
    "X_binary_test = X_binary_test.as_matrix()\n",
    "\n",
    "# Convert predictor data to work with CNN\n",
    "X_gs_cnn_train = X_gs_train.reshape(X_gs_train.shape[0], 1, 28, 28).astype('float32')\n",
    "X_gs_cnn_test = X_gs_test.reshape(X_gs_test.shape[0], 1, 28, 28).astype('float32')\n",
    "\n",
    "X_binary_cnn_train = X_binary_train.reshape(X_binary_train.shape[0], 1, 28, 28).astype('float32')\n",
    "X_binary_cnn_test = X_binary_test.reshape(X_binary_test.shape[0], 1, 28, 28).astype('float32')\n",
    "\n",
    "# Convert target data categories to binary representation (one-hot encode)\n",
    "y_gs_train = np_utils.to_categorical(y_gs_train)\n",
    "y_gs_test = np_utils.to_categorical(y_gs_test)\n",
    "\n",
    "y_binary_train = np_utils.to_categorical(y_binary_train)\n",
    "y_binary_test = np_utils.to_categorical(y_binary_test)"
   ]
  },
  {
   "cell_type": "markdown",
   "metadata": {},
   "source": [
    "### Simple Neural Network\n",
    "Simple model with one hidden layer. Train using both greyscale and binary data to see which performs better."
   ]
  },
  {
   "cell_type": "code",
   "execution_count": 21,
   "metadata": {
    "collapsed": false
   },
   "outputs": [],
   "source": [
    "def basicNN():\n",
    "    model = Sequential()\n",
    "    model.add(Dense(784, input_dim=784, init='normal', activation='relu'))\n",
    "    model.add(Dense(10, init='normal', activation='softmax'))\n",
    "\n",
    "    model.compile(loss='categorical_crossentropy', optimizer='adam', metrics=['accuracy'])\n",
    "    \n",
    "    return model"
   ]
  },
  {
   "cell_type": "code",
   "execution_count": 22,
   "metadata": {
    "collapsed": false
   },
   "outputs": [
    {
     "name": "stderr",
     "output_type": "stream",
     "text": [
      "C:\\Program Files\\Anaconda3\\lib\\site-packages\\ipykernel\\__main__.py:3: UserWarning: Update your `Dense` call to the Keras 2 API: `Dense(784, input_dim=784, activation=\"relu\", kernel_initializer=\"normal\")`\n",
      "  app.launch_new_instance()\n",
      "C:\\Program Files\\Anaconda3\\lib\\site-packages\\ipykernel\\__main__.py:4: UserWarning: Update your `Dense` call to the Keras 2 API: `Dense(10, activation=\"softmax\", kernel_initializer=\"normal\")`\n",
      "C:\\Program Files\\Anaconda3\\lib\\site-packages\\keras\\models.py:844: UserWarning: The `nb_epoch` argument in `fit` has been renamed `epochs`.\n",
      "  warnings.warn('The `nb_epoch` argument in `fit` '\n"
     ]
    },
    {
     "name": "stdout",
     "output_type": "stream",
     "text": [
      "Epoch 1/10\n",
      "4s - loss: 0.3378 - acc: 0.9044\n",
      "Epoch 2/10\n",
      "3s - loss: 0.1235 - acc: 0.9646\n",
      "Epoch 3/10\n",
      "3s - loss: 0.0789 - acc: 0.9789\n",
      "Epoch 4/10\n",
      "3s - loss: 0.0529 - acc: 0.9858\n",
      "Epoch 5/10\n",
      "3s - loss: 0.0345 - acc: 0.9924\n",
      "Epoch 6/10\n",
      "3s - loss: 0.0233 - acc: 0.9959\n",
      "Epoch 7/10\n",
      "3s - loss: 0.0163 - acc: 0.9977\n",
      "Epoch 8/10\n",
      "3s - loss: 0.0106 - acc: 0.9990\n",
      "Epoch 9/10\n",
      "3s - loss: 0.0079 - acc: 0.9993\n",
      "Epoch 10/10\n",
      "3s - loss: 0.0058 - acc: 0.9998\n",
      "Epoch 1/10\n",
      "3s - loss: 0.3697 - acc: 0.8895\n",
      "Epoch 2/10\n",
      "3s - loss: 0.1614 - acc: 0.9530\n",
      "Epoch 3/10\n",
      "3s - loss: 0.1085 - acc: 0.9684\n",
      "Epoch 4/10\n",
      "3s - loss: 0.0800 - acc: 0.9769\n",
      "Epoch 5/10\n",
      "3s - loss: 0.0584 - acc: 0.9828\n",
      "Epoch 6/10\n",
      "3s - loss: 0.0430 - acc: 0.9880\n",
      "Epoch 7/10\n",
      "3s - loss: 0.0326 - acc: 0.9916\n",
      "Epoch 8/10\n",
      "3s - loss: 0.0249 - acc: 0.9941\n",
      "Epoch 9/10\n",
      "3s - loss: 0.0172 - acc: 0.9970\n",
      "Epoch 10/10\n",
      "3s - loss: 0.0138 - acc: 0.9978\n",
      "\n",
      "Greyscale accuracy:  0.979142857143\n",
      "Binary accuracy:  0.974285714286\n"
     ]
    }
   ],
   "source": [
    "# Build and complile basic models\n",
    "basic_nn_greyscale = basicNN()\n",
    "basic_nn_binary = basicNN()\n",
    "\n",
    "# Train basic models\n",
    "basic_nn_greyscale.fit(X_gs_train, y_gs_train, nb_epoch=10, batch_size=200, verbose=2)\n",
    "basic_nn_binary.fit(X_binary_train, y_binary_train, nb_epoch=10, batch_size=200, verbose=2)\n",
    "\n",
    "# Test basic model\n",
    "greyscale_results = basic_nn_greyscale.evaluate(X_gs_test, y_gs_test, verbose=0)\n",
    "binary_results = basic_nn_binary.evaluate(X_binary_test, y_binary_test, verbose=0)\n",
    "print('')\n",
    "print('Greyscale accuracy: ', greyscale_results[1])\n",
    "print('Binary accuracy: ', binary_results[1])"
   ]
  },
  {
   "cell_type": "markdown",
   "metadata": {},
   "source": [
    "The neural network's accuracy is better using greyscale data. Also, the accuracy using greyscale data is better than our tuned SVM while the accuracy using binary data isn't. From here we'll use greyscale with a convolutional neural networks."
   ]
  },
  {
   "cell_type": "markdown",
   "metadata": {},
   "source": [
    "### Convolutional Neural Network"
   ]
  },
  {
   "cell_type": "code",
   "execution_count": 24,
   "metadata": {
    "collapsed": false
   },
   "outputs": [
    {
     "name": "stderr",
     "output_type": "stream",
     "text": [
      "C:\\Program Files\\Anaconda3\\lib\\site-packages\\ipykernel\\__main__.py:5: UserWarning: Update your `Conv2D` call to the Keras 2 API: `Conv2D(32, (5, 5), input_shape=(1, 28, 28..., padding=\"same\")`\n",
      "C:\\Program Files\\Anaconda3\\lib\\site-packages\\ipykernel\\__main__.py:7: UserWarning: Update your `Conv2D` call to the Keras 2 API: `Conv2D(32, (5, 5))`\n"
     ]
    }
   ],
   "source": [
    "# Instantiate CNN\n",
    "cnn = Sequential()\n",
    "\n",
    "# Build layers\n",
    "cnn.add(Convolution2D(32, 5, 5, border_mode='same', input_shape=(1, 28, 28)))\n",
    "cnn.add(Activation('relu'))\n",
    "cnn.add(Convolution2D(32, 5, 5))\n",
    "cnn.add(Activation('relu'))\n",
    "cnn.add(MaxPooling2D(pool_size=(2,2)))\n",
    "cnn.add(Dropout(0.25))\n",
    "cnn.add(Flatten())\n",
    "cnn.add(Dense(128))\n",
    "cnn.add(Activation('relu'))\n",
    "cnn.add(Dropout(0.2))\n",
    "cnn.add(Dense(10))\n",
    "cnn.add(Activation('softmax'))\n",
    "\n",
    "# Compile CNN\n",
    "cnn.compile(loss='categorical_crossentropy', optimizer='adadelta', metrics=['accuracy'])"
   ]
  },
  {
   "cell_type": "code",
   "execution_count": 25,
   "metadata": {
    "collapsed": false
   },
   "outputs": [
    {
     "name": "stderr",
     "output_type": "stream",
     "text": [
      "C:\\Program Files\\Anaconda3\\lib\\site-packages\\keras\\models.py:844: UserWarning: The `nb_epoch` argument in `fit` has been renamed `epochs`.\n",
      "  warnings.warn('The `nb_epoch` argument in `fit` '\n"
     ]
    },
    {
     "name": "stdout",
     "output_type": "stream",
     "text": [
      "Epoch 1/10\n",
      "179s - loss: 0.3521 - acc: 0.8922\n",
      "Epoch 2/10\n",
      "181s - loss: 0.0947 - acc: 0.9723\n",
      "Epoch 3/10\n",
      "176s - loss: 0.0699 - acc: 0.9788\n",
      "Epoch 4/10\n",
      "202s - loss: 0.0534 - acc: 0.9837\n",
      "Epoch 5/10\n",
      "203s - loss: 0.0468 - acc: 0.9851\n",
      "Epoch 6/10\n",
      "187s - loss: 0.0415 - acc: 0.9871\n",
      "Epoch 7/10\n",
      "186s - loss: 0.0345 - acc: 0.9890\n",
      "Epoch 8/10\n",
      "186s - loss: 0.0311 - acc: 0.9902\n",
      "Epoch 9/10\n",
      "184s - loss: 0.0282 - acc: 0.9907\n",
      "Epoch 10/10\n",
      "182s - loss: 0.0257 - acc: 0.9918\n",
      "\n",
      "CNN accuracy:  0.989619047619\n"
     ]
    }
   ],
   "source": [
    "# Train CNN\n",
    "cnn.fit(X_gs_cnn_train, y_gs_train, nb_epoch=10, batch_size=128, verbose=2)\n",
    "\n",
    "# Test CNN\n",
    "cnn_results = cnn.evaluate(X_gs_cnn_test, y_gs_test, verbose=0)\n",
    "print('')\n",
    "print('CNN accuracy: ', cnn_results[1])"
   ]
  },
  {
   "cell_type": "markdown",
   "metadata": {},
   "source": [
    "Our CNN's accuracy is barely under 99%."
   ]
  },
  {
   "cell_type": "markdown",
   "metadata": {},
   "source": [
    "## Kaggle Submission"
   ]
  },
  {
   "cell_type": "markdown",
   "metadata": {},
   "source": [
    "Retrain CNN on all test data using 15 epochs:"
   ]
  },
  {
   "cell_type": "code",
   "execution_count": 30,
   "metadata": {
    "collapsed": true
   },
   "outputs": [],
   "source": [
    "# Convert data to NumPy matrix form\n",
    "X_greyscale_matrix = X_greyscale.as_matrix()\n",
    "\n",
    "# Convert predictor data to work with CNN\n",
    "X_final = X_greyscale_matrix.reshape(X_greyscale_matrix.shape[0], 1, 28, 28).astype('float32')\n",
    "\n",
    "\n",
    "# Convert target data categories to binary representation (one-hot encode)\n",
    "y_final = np_utils.to_categorical(y)"
   ]
  },
  {
   "cell_type": "code",
   "execution_count": 38,
   "metadata": {
    "collapsed": false
   },
   "outputs": [
    {
     "name": "stderr",
     "output_type": "stream",
     "text": [
      "C:\\Program Files\\Anaconda3\\lib\\site-packages\\keras\\models.py:844: UserWarning: The `nb_epoch` argument in `fit` has been renamed `epochs`.\n",
      "  warnings.warn('The `nb_epoch` argument in `fit` '\n"
     ]
    },
    {
     "name": "stdout",
     "output_type": "stream",
     "text": [
      "Epoch 1/15\n",
      "235s - loss: 0.0187 - acc: 0.9938\n",
      "Epoch 2/15\n",
      "239s - loss: 0.0182 - acc: 0.9939\n",
      "Epoch 3/15\n",
      "234s - loss: 0.0172 - acc: 0.9944\n",
      "Epoch 4/15\n",
      "236s - loss: 0.0156 - acc: 0.9952\n",
      "Epoch 5/15\n",
      "233s - loss: 0.0144 - acc: 0.9955\n",
      "Epoch 6/15\n",
      "236s - loss: 0.0121 - acc: 0.9963\n",
      "Epoch 7/15\n",
      "244s - loss: 0.0121 - acc: 0.9963\n",
      "Epoch 8/15\n",
      "252s - loss: 0.0108 - acc: 0.9966\n",
      "Epoch 9/15\n",
      "263s - loss: 0.0115 - acc: 0.9962\n",
      "Epoch 10/15\n",
      "246s - loss: 0.0099 - acc: 0.9970\n",
      "Epoch 11/15\n",
      "242s - loss: 0.0103 - acc: 0.9965\n",
      "Epoch 12/15\n",
      "246s - loss: 0.0093 - acc: 0.9969\n",
      "Epoch 13/15\n",
      "246s - loss: 0.0090 - acc: 0.9971\n",
      "Epoch 14/15\n",
      "267s - loss: 0.0084 - acc: 0.9975\n",
      "Epoch 15/15\n",
      "269s - loss: 0.0083 - acc: 0.9976\n"
     ]
    }
   ],
   "source": [
    "# Train CNN\n",
    "cnn.fit(X_final, y_final, nb_epoch=15, batch_size=128, verbose=2)\n",
    "\n",
    "# Save weights of CNN\n",
    "cnn.save_weights('cnn_weights.h5')"
   ]
  },
  {
   "cell_type": "code",
   "execution_count": 39,
   "metadata": {
    "collapsed": true
   },
   "outputs": [],
   "source": [
    "# Load data to predict upon\n",
    "df_predictors = pd.read_csv('data/test.csv')\n",
    "predictors = df_predictors.as_matrix()\n",
    "\n",
    "# Convert predictor data to correct format for CNN\n",
    "predictors_cnn = predictors.reshape(predictors.shape[0], 1, 28, 28).astype('float32')\n",
    "\n",
    "# Predict labels\n",
    "prediction = cnn.predict(predictors_cnn)"
   ]
  },
  {
   "cell_type": "code",
   "execution_count": 77,
   "metadata": {
    "collapsed": true
   },
   "outputs": [],
   "source": [
    "# Export data as CSV file\n",
    "np.savetxt('predictions.csv',np.c_[range(1,predictors_cnn.shape[0]+1),np.argmax(prediction, axis=1)],delimiter=',',header = 'ImageId,Label',comments = '',fmt='%d')"
   ]
  }
 ],
 "metadata": {
  "kernelspec": {
   "display_name": "Python 3",
   "language": "python",
   "name": "python3"
  },
  "language_info": {
   "codemirror_mode": {
    "name": "ipython",
    "version": 3
   },
   "file_extension": ".py",
   "mimetype": "text/x-python",
   "name": "python",
   "nbconvert_exporter": "python",
   "pygments_lexer": "ipython3",
   "version": "3.6.2"
  }
 },
 "nbformat": 4,
 "nbformat_minor": 2
}
